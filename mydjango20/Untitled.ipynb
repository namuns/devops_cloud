{
 "cells": [
  {
   "cell_type": "code",
   "execution_count": 29,
   "id": "b2974f12",
   "metadata": {},
   "outputs": [],
   "source": [
    "import os\n",
    "\n",
    "os.environ[\"DJANGO_SETTINGS_MODULE\"] = \"mydjango20.settings\"\n",
    "os.environ[\"DJANGO_ALLOW_ASYNC_UNSAFE\"] = \"true\"\n",
    "\n",
    "import django\n",
    "django.setup()"
   ]
  },
  {
   "cell_type": "code",
   "execution_count": 30,
   "id": "ee44723b",
   "metadata": {},
   "outputs": [],
   "source": [
    "from shop.models import Shop"
   ]
  },
  {
   "cell_type": "code",
   "execution_count": 31,
   "id": "66debc33",
   "metadata": {},
   "outputs": [
    {
     "data": {
      "text/plain": [
       "<Shop: 투썸플레이스 대동점>"
      ]
     },
     "execution_count": 31,
     "metadata": {},
     "output_type": "execute_result"
    }
   ],
   "source": [
    "shop = Shop.objects.get(pk=7)\n",
    "shop"
   ]
  },
  {
   "cell_type": "code",
   "execution_count": 32,
   "id": "bce7da08",
   "metadata": {},
   "outputs": [],
   "source": [
    "tags = \"카페, 투썸플레이스\""
   ]
  },
  {
   "cell_type": "code",
   "execution_count": 33,
   "id": "c9e7be21",
   "metadata": {},
   "outputs": [
    {
     "data": {
      "text/plain": [
       "<Tag: 카페>"
      ]
     },
     "execution_count": 33,
     "metadata": {},
     "output_type": "execute_result"
    }
   ],
   "source": [
    "from shop.models import Tag\n",
    "\n",
    "tag_name = \"카페\"\n",
    "\n",
    "#if not Tag.objects.filter(name=tag_name).exists()\n",
    "#    Tag.objects.create(name=tag_name)\n",
    "#    print(\"생성\")\n",
    "#else:\n",
    "#    print(\"do nothing\")\n",
    "\n",
    "# ManyToMany필드 처리에서 관계로 추가할 모델의 인스턴스 리스트가 필요합니다.\n",
    "\n",
    "tag, __ = Tag.objects.get_or_create(name=tag_name)\n",
    "tag"
   ]
  },
  {
   "cell_type": "code",
   "execution_count": null,
   "id": "7bc6dee2",
   "metadata": {},
   "outputs": [],
   "source": []
  },
  {
   "cell_type": "code",
   "execution_count": 37,
   "id": "d5e709bd",
   "metadata": {},
   "outputs": [
    {
     "data": {
      "text/plain": [
       "[<Tag: 카페>, <Tag: 투썸플레이스>]"
      ]
     },
     "execution_count": 37,
     "metadata": {},
     "output_type": "execute_result"
    }
   ],
   "source": [
    "tag_list = []\n",
    "\n",
    "for word in tags.split(\",\"):\n",
    "    tag_name = word.strip() # 좌우공백을 제거\n",
    "    tag, __ = Tag.objects.get_or_create(name=tag_name)\n",
    "    tag_list.append(tag)\n",
    "\n",
    "    \n",
    "tag_list"
   ]
  },
  {
   "cell_type": "code",
   "execution_count": 38,
   "id": "af331dd9",
   "metadata": {},
   "outputs": [
    {
     "data": {
      "text/plain": [
       "<QuerySet []>"
      ]
     },
     "execution_count": 38,
     "metadata": {},
     "output_type": "execute_result"
    }
   ],
   "source": [
    "shop.tag_set.all()"
   ]
  },
  {
   "cell_type": "code",
   "execution_count": 39,
   "id": "5761d271",
   "metadata": {},
   "outputs": [],
   "source": [
    "shop.tag_set.add(*tag_list)"
   ]
  },
  {
   "cell_type": "code",
   "execution_count": 40,
   "id": "b81815f2",
   "metadata": {},
   "outputs": [],
   "source": [
    "shop.tag_set.clear()"
   ]
  },
  {
   "cell_type": "code",
   "execution_count": 41,
   "id": "d11291a6",
   "metadata": {},
   "outputs": [
    {
     "data": {
      "text/plain": [
       "<QuerySet []>"
      ]
     },
     "execution_count": 41,
     "metadata": {},
     "output_type": "execute_result"
    }
   ],
   "source": [
    "shop.tag_set.all()"
   ]
  },
  {
   "cell_type": "code",
   "execution_count": 42,
   "id": "39c3ebd4",
   "metadata": {},
   "outputs": [],
   "source": [
    "shop.tag_set.add(*tag_list) # 중복 add에 대한 처리가 내부적으로 되어있다."
   ]
  },
  {
   "cell_type": "code",
   "execution_count": 43,
   "id": "c20f07fb",
   "metadata": {},
   "outputs": [
    {
     "data": {
      "text/plain": [
       "<QuerySet [<Tag: 카페>, <Tag: 투썸플레이스>]>"
      ]
     },
     "execution_count": 43,
     "metadata": {},
     "output_type": "execute_result"
    }
   ],
   "source": [
    "shop.tag_set.all()"
   ]
  },
  {
   "cell_type": "code",
   "execution_count": null,
   "id": "e5c23ae1",
   "metadata": {},
   "outputs": [],
   "source": []
  }
 ],
 "metadata": {
  "kernelspec": {
   "display_name": "Python 3 (ipykernel)",
   "language": "python",
   "name": "python3"
  },
  "language_info": {
   "codemirror_mode": {
    "name": "ipython",
    "version": 3
   },
   "file_extension": ".py",
   "mimetype": "text/x-python",
   "name": "python",
   "nbconvert_exporter": "python",
   "pygments_lexer": "ipython3",
   "version": "3.10.0"
  }
 },
 "nbformat": 4,
 "nbformat_minor": 5
}
